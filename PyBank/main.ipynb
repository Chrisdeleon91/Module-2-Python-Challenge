{
 "cells": [
  {
   "cell_type": "code",
   "execution_count": 1,
   "id": "294b44f9-c6d5-4934-ace9-9cc875d81815",
   "metadata": {},
   "outputs": [
    {
     "name": "stdout",
     "output_type": "stream",
     "text": [
      "['Date', 'Profit/Losses']\n",
      "['Jan-2010', '867884']\n",
      "['Feb-2010', '984655']\n",
      "['Mar-2010', '322013']\n",
      "['Apr-2010', '-69417']\n",
      "['May-2010', '310503']\n",
      "['Jun-2010', '522857']\n",
      "['Jul-2010', '1033096']\n",
      "['Aug-2010', '604885']\n",
      "['Sep-2010', '-216386']\n",
      "['Oct-2010', '477532']\n",
      "['Nov-2010', '893810']\n",
      "['Dec-2010', '-80353']\n",
      "['Jan-2011', '779806']\n",
      "['Feb-2011', '-335203']\n",
      "['Mar-2011', '697845']\n",
      "['Apr-2011', '793163']\n",
      "['May-2011', '485070']\n",
      "['Jun-2011', '584122']\n",
      "['Jul-2011', '62729']\n",
      "['Aug-2011', '668179']\n",
      "['Sep-2011', '899906']\n",
      "['Oct-2011', '834719']\n",
      "['Nov-2011', '132003']\n",
      "['Dec-2011', '309978']\n",
      "['Jan-2012', '-755566']\n",
      "['Feb-2012', '1170593']\n",
      "['Mar-2012', '252788']\n",
      "['Apr-2012', '1151518']\n",
      "['May-2012', '817256']\n",
      "['Jun-2012', '570757']\n",
      "['Jul-2012', '506702']\n",
      "['Aug-2012', '-1022534']\n",
      "['Sep-2012', '475062']\n",
      "['Oct-2012', '779976']\n",
      "['Nov-2012', '144175']\n",
      "['Dec-2012', '542494']\n",
      "['Jan-2013', '359333']\n",
      "['Feb-2013', '321469']\n",
      "['Mar-2013', '67780']\n",
      "['Apr-2013', '471435']\n",
      "['May-2013', '565603']\n",
      "['Jun-2013', '872480']\n",
      "['Jul-2013', '789480']\n",
      "['Aug-2013', '999942']\n",
      "['Sep-2013', '-1196225']\n",
      "['Oct-2013', '268997']\n",
      "['Nov-2013', '-687986']\n",
      "['Dec-2013', '1150461']\n",
      "['Jan-2014', '682458']\n",
      "['Feb-2014', '617856']\n",
      "['Mar-2014', '824098']\n",
      "['Apr-2014', '581943']\n",
      "['May-2014', '132864']\n",
      "['Jun-2014', '448062']\n",
      "['Jul-2014', '689161']\n",
      "['Aug-2014', '800701']\n",
      "['Sep-2014', '1166643']\n",
      "['Oct-2014', '947333']\n",
      "['Nov-2014', '578668']\n",
      "['Dec-2014', '988505']\n",
      "['Jan-2015', '1139715']\n",
      "['Feb-2015', '1029471']\n",
      "['Mar-2015', '687533']\n",
      "['Apr-2015', '-524626']\n",
      "['May-2015', '158620']\n",
      "['Jun-2015', '87795']\n",
      "['Jul-2015', '423389']\n",
      "['Aug-2015', '840723']\n",
      "['Sep-2015', '568529']\n",
      "['Oct-2015', '332067']\n",
      "['Nov-2015', '989499']\n",
      "['Dec-2015', '778237']\n",
      "['Jan-2016', '650000']\n",
      "['Feb-2016', '-1100387']\n",
      "['Mar-2016', '-174946']\n",
      "['Apr-2016', '757143']\n",
      "['May-2016', '445709']\n",
      "['Jun-2016', '712961']\n",
      "['Jul-2016', '-1163797']\n",
      "['Aug-2016', '569899']\n",
      "['Sep-2016', '768450']\n",
      "['Oct-2016', '102685']\n",
      "['Nov-2016', '795914']\n",
      "['Dec-2016', '60988']\n",
      "['Jan-2017', '138230']\n",
      "['Feb-2017', '671099']\n"
     ]
    }
   ],
   "source": [
    "import csv\n",
    "\n",
    "with open(\"./resources/budget_data.csv\", 'r') as file:\n",
    "  csvreader = csv.reader(file)\n",
    "  for row in csvreader:\n",
    "    print(row)"
   ]
  },
  {
   "cell_type": "code",
   "execution_count": 2,
   "id": "40fa7a9d-d43e-4795-b020-e99800b02c50",
   "metadata": {
    "tags": []
   },
   "outputs": [
    {
     "name": "stdout",
     "output_type": "stream",
     "text": [
      "Date Profit/Losses\n",
      "Jan-2010 867884\n",
      "Feb-2010 984655\n",
      "Mar-2010 322013\n",
      "Apr-2010 -69417\n",
      "May-2010 310503\n",
      "Jun-2010 522857\n",
      "Jul-2010 1033096\n",
      "Aug-2010 604885\n",
      "Sep-2010 -216386\n",
      "Oct-2010 477532\n",
      "Nov-2010 893810\n",
      "Dec-2010 -80353\n",
      "Jan-2011 779806\n",
      "Feb-2011 -335203\n",
      "Mar-2011 697845\n",
      "Apr-2011 793163\n",
      "May-2011 485070\n",
      "Jun-2011 584122\n",
      "Jul-2011 62729\n",
      "Aug-2011 668179\n",
      "Sep-2011 899906\n",
      "Oct-2011 834719\n",
      "Nov-2011 132003\n",
      "Dec-2011 309978\n",
      "Jan-2012 -755566\n",
      "Feb-2012 1170593\n",
      "Mar-2012 252788\n",
      "Apr-2012 1151518\n",
      "May-2012 817256\n",
      "Jun-2012 570757\n",
      "Jul-2012 506702\n",
      "Aug-2012 -1022534\n",
      "Sep-2012 475062\n",
      "Oct-2012 779976\n",
      "Nov-2012 144175\n",
      "Dec-2012 542494\n",
      "Jan-2013 359333\n",
      "Feb-2013 321469\n",
      "Mar-2013 67780\n",
      "Apr-2013 471435\n",
      "May-2013 565603\n",
      "Jun-2013 872480\n",
      "Jul-2013 789480\n",
      "Aug-2013 999942\n",
      "Sep-2013 -1196225\n",
      "Oct-2013 268997\n",
      "Nov-2013 -687986\n",
      "Dec-2013 1150461\n",
      "Jan-2014 682458\n",
      "Feb-2014 617856\n",
      "Mar-2014 824098\n",
      "Apr-2014 581943\n",
      "May-2014 132864\n",
      "Jun-2014 448062\n",
      "Jul-2014 689161\n",
      "Aug-2014 800701\n",
      "Sep-2014 1166643\n",
      "Oct-2014 947333\n",
      "Nov-2014 578668\n",
      "Dec-2014 988505\n",
      "Jan-2015 1139715\n",
      "Feb-2015 1029471\n",
      "Mar-2015 687533\n",
      "Apr-2015 -524626\n",
      "May-2015 158620\n",
      "Jun-2015 87795\n",
      "Jul-2015 423389\n",
      "Aug-2015 840723\n",
      "Sep-2015 568529\n",
      "Oct-2015 332067\n",
      "Nov-2015 989499\n",
      "Dec-2015 778237\n",
      "Jan-2016 650000\n",
      "Feb-2016 -1100387\n",
      "Mar-2016 -174946\n",
      "Apr-2016 757143\n",
      "May-2016 445709\n",
      "Jun-2016 712961\n",
      "Jul-2016 -1163797\n",
      "Aug-2016 569899\n",
      "Sep-2016 768450\n",
      "Oct-2016 102685\n",
      "Nov-2016 795914\n",
      "Dec-2016 60988\n",
      "Jan-2017 138230\n",
      "Feb-2017 671099\n"
     ]
    }
   ],
   "source": [
    "import csv\n",
    "\n",
    "#analyze the records\n",
    "with open(\"./resources/budget_data.csv\", 'r') as file:\n",
    "  csvreader = csv.reader(file)\n",
    "  for row, date in csvreader:\n",
    "    print(row, date)\n",
    "    "
   ]
  },
  {
   "cell_type": "code",
   "execution_count": 3,
   "id": "6ac8bd24-668c-4adc-8ca2-f39e4244630d",
   "metadata": {
    "tags": []
   },
   "outputs": [
    {
     "name": "stdout",
     "output_type": "stream",
     "text": [
      "Date Profit/Losses\n",
      "Jan-2010 867884\n",
      "Feb-2010 984655\n",
      "Mar-2010 322013\n",
      "Apr-2010 -69417\n",
      "May-2010 310503\n",
      "Jun-2010 522857\n",
      "Jul-2010 1033096\n",
      "Aug-2010 604885\n",
      "Sep-2010 -216386\n",
      "Oct-2010 477532\n",
      "Nov-2010 893810\n",
      "Dec-2010 -80353\n",
      "Jan-2011 779806\n",
      "Feb-2011 -335203\n",
      "Mar-2011 697845\n",
      "Apr-2011 793163\n",
      "May-2011 485070\n",
      "Jun-2011 584122\n",
      "Jul-2011 62729\n",
      "Aug-2011 668179\n",
      "Sep-2011 899906\n",
      "Oct-2011 834719\n",
      "Nov-2011 132003\n",
      "Dec-2011 309978\n",
      "Jan-2012 -755566\n",
      "Feb-2012 1170593\n",
      "Mar-2012 252788\n",
      "Apr-2012 1151518\n",
      "May-2012 817256\n",
      "Jun-2012 570757\n",
      "Jul-2012 506702\n",
      "Aug-2012 -1022534\n",
      "Sep-2012 475062\n",
      "Oct-2012 779976\n",
      "Nov-2012 144175\n",
      "Dec-2012 542494\n",
      "Jan-2013 359333\n",
      "Feb-2013 321469\n",
      "Mar-2013 67780\n",
      "Apr-2013 471435\n",
      "May-2013 565603\n",
      "Jun-2013 872480\n",
      "Jul-2013 789480\n",
      "Aug-2013 999942\n",
      "Sep-2013 -1196225\n",
      "Oct-2013 268997\n",
      "Nov-2013 -687986\n",
      "Dec-2013 1150461\n",
      "Jan-2014 682458\n",
      "Feb-2014 617856\n",
      "Mar-2014 824098\n",
      "Apr-2014 581943\n",
      "May-2014 132864\n",
      "Jun-2014 448062\n",
      "Jul-2014 689161\n",
      "Aug-2014 800701\n",
      "Sep-2014 1166643\n",
      "Oct-2014 947333\n",
      "Nov-2014 578668\n",
      "Dec-2014 988505\n",
      "Jan-2015 1139715\n",
      "Feb-2015 1029471\n",
      "Mar-2015 687533\n",
      "Apr-2015 -524626\n",
      "May-2015 158620\n",
      "Jun-2015 87795\n",
      "Jul-2015 423389\n",
      "Aug-2015 840723\n",
      "Sep-2015 568529\n",
      "Oct-2015 332067\n",
      "Nov-2015 989499\n",
      "Dec-2015 778237\n",
      "Jan-2016 650000\n",
      "Feb-2016 -1100387\n",
      "Mar-2016 -174946\n",
      "Apr-2016 757143\n",
      "May-2016 445709\n",
      "Jun-2016 712961\n",
      "Jul-2016 -1163797\n",
      "Aug-2016 569899\n",
      "Sep-2016 768450\n",
      "Oct-2016 102685\n",
      "Nov-2016 795914\n",
      "Dec-2016 60988\n",
      "Jan-2017 138230\n",
      "Feb-2017 671099\n"
     ]
    }
   ],
   "source": [
    "import csv\n",
    "\n",
    "#analyze the records\n",
    "with open(\"./resources/budget_data.csv\", 'r') as file:\n",
    "  csvreader = csv.reader(file)\n",
    "  for month, pl in csvreader:\n",
    "    print(month, pl)"
   ]
  },
  {
   "cell_type": "code",
   "execution_count": 4,
   "id": "22c34e68-d3ee-46b6-8e46-a84636f93def",
   "metadata": {
    "tags": []
   },
   "outputs": [
    {
     "name": "stdout",
     "output_type": "stream",
     "text": [
      "Date\n",
      "Jan-2010\n",
      "Feb-2010\n",
      "Mar-2010\n",
      "Apr-2010\n",
      "May-2010\n",
      "Jun-2010\n",
      "Jul-2010\n",
      "Aug-2010\n",
      "Sep-2010\n",
      "Oct-2010\n",
      "Nov-2010\n",
      "Dec-2010\n",
      "Jan-2011\n",
      "Feb-2011\n",
      "Mar-2011\n",
      "Apr-2011\n",
      "May-2011\n",
      "Jun-2011\n",
      "Jul-2011\n",
      "Aug-2011\n",
      "Sep-2011\n",
      "Oct-2011\n",
      "Nov-2011\n",
      "Dec-2011\n",
      "Jan-2012\n",
      "Feb-2012\n",
      "Mar-2012\n",
      "Apr-2012\n",
      "May-2012\n",
      "Jun-2012\n",
      "Jul-2012\n",
      "Aug-2012\n",
      "Sep-2012\n",
      "Oct-2012\n",
      "Nov-2012\n",
      "Dec-2012\n",
      "Jan-2013\n",
      "Feb-2013\n",
      "Mar-2013\n",
      "Apr-2013\n",
      "May-2013\n",
      "Jun-2013\n",
      "Jul-2013\n",
      "Aug-2013\n",
      "Sep-2013\n",
      "Oct-2013\n",
      "Nov-2013\n",
      "Dec-2013\n",
      "Jan-2014\n",
      "Feb-2014\n",
      "Mar-2014\n",
      "Apr-2014\n",
      "May-2014\n",
      "Jun-2014\n",
      "Jul-2014\n",
      "Aug-2014\n",
      "Sep-2014\n",
      "Oct-2014\n",
      "Nov-2014\n",
      "Dec-2014\n",
      "Jan-2015\n",
      "Feb-2015\n",
      "Mar-2015\n",
      "Apr-2015\n",
      "May-2015\n",
      "Jun-2015\n",
      "Jul-2015\n",
      "Aug-2015\n",
      "Sep-2015\n",
      "Oct-2015\n",
      "Nov-2015\n",
      "Dec-2015\n",
      "Jan-2016\n",
      "Feb-2016\n",
      "Mar-2016\n",
      "Apr-2016\n",
      "May-2016\n",
      "Jun-2016\n",
      "Jul-2016\n",
      "Aug-2016\n",
      "Sep-2016\n",
      "Oct-2016\n",
      "Nov-2016\n",
      "Dec-2016\n",
      "Jan-2017\n",
      "Feb-2017\n"
     ]
    }
   ],
   "source": [
    "import csv\n",
    "\n",
    "#analyze the records\n",
    "with open(\"./resources/budget_data.csv\", 'r') as file:\n",
    "  csvreader = csv.reader(file)\n",
    "  for month, pl in csvreader:\n",
    "    print(month)"
   ]
  },
  {
   "cell_type": "code",
   "execution_count": 5,
   "id": "057c55b1-4bb5-49c4-9fb0-985ee441ab15",
   "metadata": {
    "tags": []
   },
   "outputs": [
    {
     "ename": "SyntaxError",
     "evalue": "invalid syntax. Maybe you meant '==' or ':=' instead of '='? (3813717502.py, line 11)",
     "output_type": "error",
     "traceback": [
      "\u001b[1;36m  Cell \u001b[1;32mIn[5], line 11\u001b[1;36m\u001b[0m\n\u001b[1;33m    if month = (\"Jan\"):\u001b[0m\n\u001b[1;37m       ^\u001b[0m\n\u001b[1;31mSyntaxError\u001b[0m\u001b[1;31m:\u001b[0m invalid syntax. Maybe you meant '==' or ':=' instead of '='?\n"
     ]
    }
   ],
   "source": [
    "import csv\n",
    "\n",
    "#Initialize variables\n",
    "total_months = 0\n",
    "\n",
    "#analyze the records\n",
    "with open(\"./resources/budget_data.csv\", 'r') as file:\n",
    "  csvreader = csv.reader(file)\n",
    "  for month, pl in csvreader:\n",
    "    print()\n",
    "    if month = (\"Jan\"):\n",
    "        total_months +="
   ]
  },
  {
   "cell_type": "code",
   "execution_count": null,
   "id": "946e2977-520d-4c13-8f75-afe65fc236b5",
   "metadata": {
    "tags": []
   },
   "outputs": [],
   "source": [
    "|with open('./resources/budget_data.csv', newline='') as csvfile:\n",
    "    data = list(csv.reader(csvfile))\n",
    "\n",
    "print(data)    \n",
    "    "
   ]
  },
  {
   "cell_type": "code",
   "execution_count": null,
   "id": "5ec6d31c-b23a-4194-b0bd-bec5175d42dd",
   "metadata": {
    "tags": []
   },
   "outputs": [],
   "source": [
    "# load csv module\n",
    "import csv\n",
    "\n",
    "# open file for reading\n",
    "with open('./resources/budget_data.csv') as csvDataFile:\n",
    "\n",
    "    # read file as csv file \n",
    "    csvReader = csv.reader(csvDataFile)\n",
    "\n",
    "    # for every row, print the row\n",
    "    for row in csvReader:\n",
    "        print(row)"
   ]
  },
  {
   "cell_type": "code",
   "execution_count": null,
   "id": "ac206646-3f0a-4b82-a4e9-6ffe74ccc116",
   "metadata": {
    "tags": []
   },
   "outputs": [],
   "source": [
    "import csv\n",
    "\n",
    "#Initialize variables\n",
    "total_months = 0\n",
    "record_copy = []\n",
    "\n",
    "#analyze the records\n",
    "#with open(\"./resources/budget_data.csv\", 'r') as file:\n",
    "#  csvreader = csv.reader(file)\n",
    "#  for month, pl in csvreader:\n",
    "#    print(month, pl)\n",
    "\n",
    "with open('./resources/budget_data.csv', newline='') as csvfile:\n",
    "    data = list(csv.reader(csvfile))\n",
    "\n",
    "#print(data)  \n",
    "\n",
    "record_copy = data\n",
    "\n",
    "print(record_copy)   \n",
    "    "
   ]
  },
  {
   "cell_type": "code",
   "execution_count": null,
   "id": "632c6232-990f-45ea-8317-cd46b2f71d49",
   "metadata": {
    "tags": []
   },
   "outputs": [],
   "source": [
    "import csv\n",
    "\n",
    "#Initialize variables\n",
    "total_months = 0\n",
    "record_copy = []\n",
    "\n",
    "#analyze the records\n",
    "#with open(\"./resources/budget_data.csv\", 'r') as file:\n",
    "#  csvreader = csv.reader(file)\n",
    "#  for month, pl in csvreader:\n",
    "#    print(month, pl)\n",
    "\n",
    "with open('./resources/budget_data.csv', newline='') as file:\n",
    "    data = list(csv.reader(file))\n",
    "\n",
    "#print(data)  \n",
    "\n",
    "record_copy = data"
   ]
  },
  {
   "cell_type": "code",
   "execution_count": null,
   "id": "a6e531ba-80dd-423f-9cb8-0b88f63074e1",
   "metadata": {
    "tags": []
   },
   "outputs": [],
   "source": [
    "print (record_copy)"
   ]
  },
  {
   "cell_type": "code",
   "execution_count": null,
   "id": "e4fe5499-77d8-4ad8-8af8-6f9665190579",
   "metadata": {
    "tags": []
   },
   "outputs": [],
   "source": [
    "print (./resources/budget_data.csv)"
   ]
  },
  {
   "cell_type": "code",
   "execution_count": null,
   "id": "6798701d-c085-4ea7-997f-745853f5417d",
   "metadata": {
    "tags": []
   },
   "outputs": [],
   "source": [
    "for symbol, symbol_info in data.items():\n",
    "        sorted_record = [month['date'], pl['Profit/Losses']]\n",
    "record_copy[symbol].append(sorted_record)"
   ]
  },
  {
   "cell_type": "code",
   "execution_count": null,
   "id": "9b1a7eb3-2ca1-4bca-be64-3ce84999765c",
   "metadata": {
    "tags": []
   },
   "outputs": [],
   "source": [
    "import csv\n",
    "\n",
    "#Initialize variables\n",
    "total_months = 0\n",
    "record_copy = []\n",
    "\n",
    "#analyze the records\n",
    "with open(\"./resources/budget_data.csv\", 'r') as file:\n",
    "  csvreader = csv.reader(file)\n",
    "  for month, pl in csvreader:\n",
    "    print(month, pl)"
   ]
  },
  {
   "cell_type": "code",
   "execution_count": null,
   "id": "e8f006a6-cb62-4d37-b3a1-8ec81bfe07bc",
   "metadata": {
    "tags": []
   },
   "outputs": [],
   "source": [
    "import csv\n",
    "\n",
    "#Initialize variables\n",
    "total_months = 0\n",
    "record_copy = []\n",
    "\n",
    "#analyze the records\n",
    "with open(\"./resources/budget_data.csv\", 'r') as file:\n",
    "  csvreader = csv.reader(file)\n",
    "  for month, pl in csvreader:\n",
    "    print(month)"
   ]
  },
  {
   "cell_type": "code",
   "execution_count": null,
   "id": "00c77fa2-0363-4497-a072-a3fe64784929",
   "metadata": {
    "tags": []
   },
   "outputs": [],
   "source": [
    "#analyze the records\n",
    "with open(\"./resources/budget_data.csv\", 'r') as file:\n",
    "  csvreader = csv.reader(file)\n",
    "  for month, pl in csvreader:\n",
    "    print(f\"Reading file {file} complete\")\n"
   ]
  },
  {
   "cell_type": "code",
   "execution_count": null,
   "id": "2ab26db7-66da-49b2-a668-1fe2d866bfdf",
   "metadata": {
    "tags": []
   },
   "outputs": [],
   "source": [
    "#analyze the records\n",
    "with open(\"./resources/budget_data.csv\", 'r') as file:\n",
    "  csvreader = csv.reader(file)\n",
    "  for month, pl in csvreader:\n",
    "    print(f\"Reading file budget_data.csv complete\")"
   ]
  },
  {
   "cell_type": "code",
   "execution_count": 3,
   "id": "c93b42ab-27f8-43b7-b884-ff797563ed2d",
   "metadata": {
    "tags": []
   },
   "outputs": [
    {
     "ename": "NameError",
     "evalue": "name 'csv' is not defined",
     "output_type": "error",
     "traceback": [
      "\u001b[1;31m---------------------------------------------------------------------------\u001b[0m",
      "\u001b[1;31mNameError\u001b[0m                                 Traceback (most recent call last)",
      "Cell \u001b[1;32mIn[3], line 3\u001b[0m\n\u001b[0;32m      1\u001b[0m \u001b[38;5;66;03m#analyze the records\u001b[39;00m\n\u001b[0;32m      2\u001b[0m \u001b[38;5;28;01mwith\u001b[39;00m \u001b[38;5;28mopen\u001b[39m(\u001b[38;5;124m\"\u001b[39m\u001b[38;5;124m./resources/budget_data.csv\u001b[39m\u001b[38;5;124m\"\u001b[39m, \u001b[38;5;124m'\u001b[39m\u001b[38;5;124mr\u001b[39m\u001b[38;5;124m'\u001b[39m) \u001b[38;5;28;01mas\u001b[39;00m file:\n\u001b[1;32m----> 3\u001b[0m   csvreader \u001b[38;5;241m=\u001b[39m csv\u001b[38;5;241m.\u001b[39mreader(file)\n\u001b[0;32m      4\u001b[0m   \u001b[38;5;28;01mfor\u001b[39;00m month, pl \u001b[38;5;129;01min\u001b[39;00m csvreader:\n\u001b[0;32m      5\u001b[0m         \u001b[38;5;28;01mif\u001b[39;00m month \u001b[38;5;241m==\u001b[39m (Jan):\n",
      "\u001b[1;31mNameError\u001b[0m: name 'csv' is not defined"
     ]
    }
   ],
   "source": [
    "#analyze the records\n",
    "with open(\"./resources/budget_data.csv\", 'r') as file:\n",
    "  csvreader = csv.reader(file)\n",
    "  for month, pl in csvreader:\n",
    "        if month == (Jan):\n",
    "            total_months += 1"
   ]
  },
  {
   "cell_type": "code",
   "execution_count": 93,
   "id": "9a960780-633f-4f09-957c-ea78cebd202a",
   "metadata": {
    "tags": []
   },
   "outputs": [
    {
     "ename": "NameError",
     "evalue": "name 'Jan' is not defined",
     "output_type": "error",
     "traceback": [
      "\u001b[1;31m---------------------------------------------------------------------------\u001b[0m",
      "\u001b[1;31mNameError\u001b[0m                                 Traceback (most recent call last)",
      "Cell \u001b[1;32mIn[93], line 5\u001b[0m\n\u001b[0;32m      3\u001b[0m csvreader \u001b[38;5;241m=\u001b[39m csv\u001b[38;5;241m.\u001b[39mreader(file)\n\u001b[0;32m      4\u001b[0m \u001b[38;5;28;01mfor\u001b[39;00m month, pl \u001b[38;5;129;01min\u001b[39;00m csvreader:\n\u001b[1;32m----> 5\u001b[0m       \u001b[38;5;28;01mif\u001b[39;00m month \u001b[38;5;241m==\u001b[39m (Jan):\n\u001b[0;32m      6\u001b[0m           total_months \u001b[38;5;241m+\u001b[39m\u001b[38;5;241m=\u001b[39m \u001b[38;5;241m1\u001b[39m\n",
      "\u001b[1;31mNameError\u001b[0m: name 'Jan' is not defined"
     ]
    }
   ],
   "source": [
    "#analyze the records\n",
    "with open(\"./resources/budget_data.csv\", 'r') as file:\n",
    "  csvreader = csv.reader(file)\n",
    "  for month, pl in csvreader:\n",
    "        if month == (Jan):\n",
    "            total_months += 1"
   ]
  },
  {
   "cell_type": "code",
   "execution_count": null,
   "id": "bf953823-2bf6-4651-8eee-8f7993c76f94",
   "metadata": {},
   "outputs": [],
   "source": []
  },
  {
   "cell_type": "code",
   "execution_count": 12,
   "id": "eee59926-4379-414b-89c2-4540d69857f3",
   "metadata": {
    "tags": []
   },
   "outputs": [],
   "source": [
    "import csv\n",
    "\n",
    "#Initialize variables\n",
    "total_months = 0\n",
    "record_copy = []\n",
    "\n",
    "#analyze the records\n",
    "with open(\"./resources/budget_data.csv\", 'r') as file:\n",
    "  csvreader = csv.reader(file)\n",
    "  for month, pl in csvreader:\n",
    "        if month == (\"Jan\"):\n",
    "            total_months += 1"
   ]
  },
  {
   "cell_type": "code",
   "execution_count": 10,
   "id": "412f2d2c-77ef-4258-b337-b77ffd55909e",
   "metadata": {
    "tags": []
   },
   "outputs": [
    {
     "name": "stdout",
     "output_type": "stream",
     "text": [
      "1\n"
     ]
    }
   ],
   "source": [
    "print(total_months)"
   ]
  },
  {
   "cell_type": "code",
   "execution_count": 32,
   "id": "a836e16e-6fcc-4aa9-96df-b7469cdc0d9c",
   "metadata": {
    "tags": []
   },
   "outputs": [
    {
     "name": "stdout",
     "output_type": "stream",
     "text": [
      "87\n"
     ]
    }
   ],
   "source": [
    "print(total_months)"
   ]
  },
  {
   "cell_type": "code",
   "execution_count": 27,
   "id": "003641cb-b448-40f9-8453-be699f807ea5",
   "metadata": {
    "tags": []
   },
   "outputs": [
    {
     "name": "stdout",
     "output_type": "stream",
     "text": [
      "671099671099\n"
     ]
    }
   ],
   "source": [
    "print(average_profit)"
   ]
  },
  {
   "cell_type": "code",
   "execution_count": 497,
   "id": "0ca1200b-fb79-45bb-b8cc-a58f366044d8",
   "metadata": {
    "tags": []
   },
   "outputs": [
    {
     "name": "stdout",
     "output_type": "stream",
     "text": [
      "Financial Analysis\n",
      "----------------------------\n",
      "The total number of months is: 86.\n",
      "The total profit is: $38382578.\n",
      "Average Change: $-2315.12\n",
      "Greatest Increase in Profits was in : with a maximum profit of $1926159 \n",
      "Greatest Decrease in Profits was in : with a minimum profit $-2196167 \n"
     ]
    }
   ],
   "source": [
    "import csv\n",
    "\n",
    "#Initialize variables\n",
    "total_months = 0\n",
    "total_pl = 0\n",
    "profit_changes = []\n",
    "previous_profit = None\n",
    "\n",
    "total_profit = 0\n",
    "count_profit = 0\n",
    "min_profit = 0\n",
    "max_profit = 0\n",
    "\n",
    "#Analyze the records\n",
    "with open(\"./resources/budget_data.csv\", 'r') as file:\n",
    "#returns the next line after the first line, \"moves pointer\" to second line in a sense\n",
    "    csvreader = csv.reader(file)\n",
    "    header = next(csvreader)\n",
    "    \n",
    "    for month, pl in csvreader:\n",
    "    #Calculation of the total number of months in the dataset \n",
    "        total_months += 1\n",
    "        \n",
    "    \n",
    "    #The net total amount of Profit/Losses over the entire period\n",
    "    #Convert the number in the text file from string to int\n",
    "        current_profit  = int(pl)\n",
    "        total_pl += current_profit  \n",
    "        \n",
    "    #The average of the changes in Profit/Losses over the entire period    \n",
    "         #if this is not the first month  \n",
    "        if previous_profit is not None:\n",
    "             #find difference between this month and the last one         \n",
    "            profit_differences = current_profit - previous_profit\n",
    "            #append to changes list\n",
    "            profit_changes.append(profit_differences)\n",
    "            #months_changes.append(str(month))\n",
    "        #take what was just used as current_profit and make it the new previous then repeat the loop \n",
    "        previous_profit = current_profit\n",
    "#print(profit_changes)\n",
    "\n",
    "for profit in profit_changes:\n",
    "\n",
    "    # Sum the total and count variables\n",
    "    total_profit += profit\n",
    "    count_profit += 1\n",
    "\n",
    "    # Logic to determine min and max salaries\n",
    "    if min_profit == 0:\n",
    "        min_profit = profit\n",
    "    elif profit > max_profit:\n",
    "        max_profit = profit #25 Feb-2012  \n",
    "    elif profit < min_profit:\n",
    "        min_profit = profit #44 Sept-2013 \n",
    "\n",
    "# Calculate the average salary, round to the nearest 2 decimal places\n",
    "# avg_profit = round(total_profit / count_profit, 2)\n",
    "# print(avg_profit)\n",
    "# print(max_profit)\n",
    "# print(min_profit)\n",
    "\n",
    "\n",
    "#but After you get the changes into the changes list, you can go all \n",
    "#the way back out of all the loops, and with no indentations just devide the sum of the changes list by the length of the changes list to get an average\n",
    "\n",
    "#and then you have to go all the way back to no indentations and no loops to actually use the list of changes between months to get an average \n",
    "\n",
    "\n",
    "#The greatest increase in profits (date and amount) over the entire period\n",
    "\n",
    "\n",
    "#The greatest decrease in losses (date and amount) over the entire period    \n",
    "     \n",
    "# print(f\"Reading file budget_data.csv completed.\")\n",
    "\n",
    "print(f\"Financial Analysis\")\n",
    "print(\"----------------------------\")\n",
    "print(f\"The total number of months is: {total_months}.\")  \n",
    "print(f\"The total profit is: ${total_pl}.\")  \n",
    "print(f\"Average Change: ${avg_profit}\")\n",
    "print(f\"Greatest Increase in Profits was in : with a maximum profit of ${max_profit} \")\n",
    "print(f\"Greatest Decrease in Profits was in : with a minimum profit ${min_profit} \")\n",
    "\n",
    "#Analysis and Calculations (35 points)\n",
    "#To receive all points, your code must:\n",
    "#Include a calculation of the total number of months in the dataset. (2 points)\n",
    "#Calculate the net total amount of Profit/Losses over the entire period. (3 points)\n",
    "#Calculate the average of the changes in Profit/Losses over the entire period. (5 points)\n",
    "#Calculate the greatest increase in Profits over the entire period (Date and Amount). (10 points)\n",
    "#Calculate the greatest decrease in Losses over the entire period (Date and Amount). (10 points)\n",
    "#Print the analysis and export the analysis to a text file that contains the final results. (5 points)\n",
    "\n",
    "#Financial Analysis\n",
    "#---------------------------- \n",
    "#Total Months: 86 \n",
    "#Total: $38382578 \n",
    "#Average Change: $-2315.12 \n",
    "#Greatest Increase in Profits: Feb-2012 ($1926159) \n",
    "#Greatest Decrease in Profits: Sep-2013 ($-2196167)\n",
    "        \n",
    "     \n",
    "#The total number of months included in the dataset\n",
    "\n",
    "#The net total amount of Profit/Losses over the entire period\n",
    "\n",
    "#The average of the changes in Profit/Losses over the entire period\n",
    "\n",
    "#The greatest increase in profits (date and amount) over the entire period\n",
    "\n",
    "#The greatest decrease in losses (date and amount) over the entire period    \n",
    "    \n"
   ]
  },
  {
   "cell_type": "code",
   "execution_count": 652,
   "id": "6c4071bb-593a-4bb1-b24c-bedf70875a5d",
   "metadata": {
    "tags": []
   },
   "outputs": [
    {
     "name": "stdout",
     "output_type": "stream",
     "text": [
      "Reading file budget_data.csv completed.\n",
      "\n",
      "Financial Analysis\n",
      "----------------------------\n",
      "\n",
      "The total number of months is: 86.\n",
      "The total profit is: $38382578.\n",
      "Average Change: $-2315.12\n",
      "Greatest Increase in Profits was in : with a maximum profit of Feb-2012 $1926159 \n",
      "Greatest Decrease in Profits was in : with a minimum profit of Sep-2013 $-2196167 \n"
     ]
    }
   ],
   "source": [
    "import csv\n",
    "\n",
    "#Initialize variables\n",
    "total_months = 0\n",
    "total_pl = 0\n",
    "profit_changes = []\n",
    "month_changes = []\n",
    "previous_profit = None\n",
    "\n",
    "total_profit = 0\n",
    "count_profit = 0\n",
    "min_profit = 0\n",
    "max_profit = 0\n",
    "\n",
    "#Analyze the records\n",
    "with open(\"./resources/budget_data.csv\", 'r') as file:\n",
    "#returns the next line after the first line, \"moves pointer\" to second line in a sense\n",
    "    csvreader = csv.reader(file)\n",
    "    header = next(csvreader)\n",
    "    \n",
    "    for month, pl in csvreader:\n",
    "    #Calculation of the total number of months in the dataset \n",
    "        total_months += 1\n",
    "        \n",
    "    #The net total amount of Profit/Losses over the entire period\n",
    "    #Convert the number in the text file from string to int\n",
    "        current_profit  = int(pl)\n",
    "        total_pl += current_profit  \n",
    "        \n",
    "    #The average of the changes in Profit/Losses over the entire period    \n",
    "         #if this is not the first month  \n",
    "        if previous_profit is not None:\n",
    "             #find difference between this month and the last one         \n",
    "            profit_differences = current_profit - previous_profit\n",
    "            #append to changes list\n",
    "            profit_changes.append(profit_differences)\n",
    "            month_changes.append(month)\n",
    "        #take what was just used as current_profit and make it the new previous then repeat the loop \n",
    "        previous_profit = current_profit\n",
    "\n",
    "#Iterate over a list to find the min and max salaries\n",
    "for profit in profit_changes:\n",
    "\n",
    "    # Sum the total and count variables\n",
    "    total_profit += profit\n",
    "    count_profit += 1\n",
    "\n",
    "    # Logic to determine min and max salaries\n",
    "    if min_profit == 0:\n",
    "        min_profit = profit\n",
    "    #The greatest increase in profits (date and amount) over the entire period\n",
    "    elif profit > max_profit:\n",
    "        max_profit = profit #25 Feb-2012  \n",
    "    #The greatest decrease in losses (date and amount) over the entire period       \n",
    "    elif profit < min_profit:\n",
    "        min_profit = profit #44 Sept-2013 \n",
    "        \n",
    "\n",
    "\n",
    "# Calculate the average salary, round to the nearest 2 decimal places\n",
    "avg_profit = round(total_profit / count_profit, 2)\n",
    "\n",
    "print(f\"Reading file budget_data.csv completed.\\n\")\n",
    "\n",
    "print(f\"Financial Analysis\")\n",
    "print(\"----------------------------\\n\")\n",
    "print(f\"The total number of months is: {total_months}.\")    \n",
    "print(f\"The total profit is: ${total_pl}.\")\n",
    "print(f\"Average Change: ${avg_profit}\")\n",
    "print(f\"Greatest Increase in Profits was in : with a maximum profit of {(month_changes[profit_changes.index(max(profit_changes))])} ${max(profit_changes)} \")\n",
    "#Alternative print statement \n",
    "#print(f\"Greatest Increase in Profits was in : with a maximum profit of {(month_changes[profit_changes.index(max(profit_changes))])} ${max_profit} \")\n",
    "print(f\"Greatest Decrease in Profits was in : with a minimum profit of {(month_changes[profit_changes.index(min(profit_changes))])} ${min(profit_changes)} \")\n",
    "#Alternative print statement \n",
    "#print(f\"Greatest Decrease in Profits was in : with a minimum profit of {(month_changes[profit_changes.index(min(profit_changes))])} ${min_profit} \")\n",
    "\n",
    "#Analysis and Calculations (35 points)\n",
    "#To receive all points, your code must:\n",
    "#Include a calculation of the total number of months in the dataset. (2 points)\n",
    "#Calculate the net total amount of Profit/Losses over the entire period. (3 points)\n",
    "#Calculate the average of the changes in Profit/Losses over the entire period. (5 points)\n",
    "#Calculate the greatest increase in Profits over the entire period (Date and Amount). (10 points)\n",
    "#Calculate the greatest decrease in Losses over the entire period (Date and Amount). (10 points)\n",
    "#Print the analysis and export the analysis to a text file that contains the final results. (5 points)\n"
   ]
  },
  {
   "cell_type": "code",
   "execution_count": null,
   "id": "023dc939-9212-459f-b093-fa1f520d5211",
   "metadata": {},
   "outputs": [],
   "source": []
  }
 ],
 "metadata": {
  "kernelspec": {
   "display_name": "Python 3 (ipykernel)",
   "language": "python",
   "name": "python3"
  },
  "language_info": {
   "codemirror_mode": {
    "name": "ipython",
    "version": 3
   },
   "file_extension": ".py",
   "mimetype": "text/x-python",
   "name": "python",
   "nbconvert_exporter": "python",
   "pygments_lexer": "ipython3",
   "version": "3.11.4"
  }
 },
 "nbformat": 4,
 "nbformat_minor": 5
}
